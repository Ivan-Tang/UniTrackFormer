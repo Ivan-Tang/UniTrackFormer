{
 "cells": [
  {
   "cell_type": "markdown",
   "id": "4c48f9ba",
   "metadata": {},
   "source": [
    "# TrackML Data Exploration & TrackFormer Training\n",
    "\n",
    "这个notebook用于:\n",
    "1. 探索TrackML数据集\n",
    "2. 演示TrackFormer训练过程\n",
    "3. 可视化结果"
   ]
  },
  {
   "cell_type": "code",
   "execution_count": null,
   "id": "a0ea9063",
   "metadata": {},
   "outputs": [],
   "source": [
    "import pandas as pd\n",
    "import numpy as np\n",
    "import matplotlib.pyplot as plt\n",
    "import torch\n",
    "from torch.utils.data import DataLoader\n",
    "\n",
    "from src.dataset import TrackMLDataset\n",
    "from src.trackformer import create_trackformer_600mev\n",
    "from src.losses import LossModule\n",
    "from src.trainer import train\n",
    "from src.visual import plot_event_3d, plot_event_rz\n",
    "\n",
    "# 设置matplotlib显示中文\n",
    "plt.rcParams['font.sans-serif'] = ['Arial Unicode MS', 'SimHei']\n",
    "plt.rcParams['axes.unicode_minus'] = False"
   ]
  },
  {
   "cell_type": "markdown",
   "id": "b0de993d",
   "metadata": {},
   "source": [
    "## 1. 数据集探索"
   ]
  },
  {
   "cell_type": "code",
   "execution_count": null,
   "id": "9c98214f",
   "metadata": {},
   "outputs": [],
   "source": [
    "# 加载数据\n",
    "data_dir = '../data/train_sample'\n",
    "detectors = pd.read_csv('../data/detectors.csv')\n",
    "\n",
    "# 选择一个事件进行探索\n",
    "event_name = 'event000001000'\n",
    "hits = pd.read_csv(f'{data_dir}/{event_name}-hits.csv')\n",
    "particles = pd.read_csv(f'{data_dir}/{event_name}-particles.csv')\n",
    "truth = pd.read_csv(f'{data_dir}/{event_name}-truth.csv')\n",
    "\n",
    "print(f\"事件 {event_name} 数据统计:\")\n",
    "print(f\"总hits数: {len(hits)}\")\n",
    "print(f\"总粒子数: {len(particles)}\")\n",
    "print(f\"有效轨迹数 (nhits≥3): {len(particles[particles['nhits'] >= 3])}\")\n",
    "print(f\"真实轨迹-hit关联数: {len(truth)}\")"
   ]
  },
  {
   "cell_type": "code",
   "execution_count": null,
   "id": "8f0607c9",
   "metadata": {},
   "outputs": [],
   "source": [
    "# 可视化hit分布\n",
    "fig, (ax1, ax2) = plt.subplots(1, 2, figsize=(15, 5))\n",
    "\n",
    "# XY平面分布\n",
    "ax1.scatter(hits['x'], hits['y'], alpha=0.6, s=1)\n",
    "ax1.set_xlabel('X (mm)')\n",
    "ax1.set_ylabel('Y (mm)')\n",
    "ax1.set_title('Hit分布 (XY平面)')\n",
    "ax1.grid(True, alpha=0.3)\n",
    "\n",
    "# RZ平面分布\n",
    "r = np.sqrt(hits['x']**2 + hits['y']**2)\n",
    "ax2.scatter(hits['z'], r, alpha=0.6, s=1)\n",
    "ax2.set_xlabel('Z (mm)')\n",
    "ax2.set_ylabel('R (mm)')\n",
    "ax2.set_title('Hit分布 (RZ平面)')\n",
    "ax2.grid(True, alpha=0.3)\n",
    "\n",
    "plt.tight_layout()\n",
    "plt.show()"
   ]
  },
  {
   "cell_type": "markdown",
   "id": "1d3db2f9",
   "metadata": {},
   "source": [
    "## 2. TrackFormer模型演示"
   ]
  },
  {
   "cell_type": "code",
   "execution_count": null,
   "id": "3fde069d",
   "metadata": {},
   "outputs": [],
   "source": [
    "# 创建数据集\n",
    "import os\n",
    "all_event_ids = sorted(\n",
    "    set(\n",
    "        fname.split('-')[0]\n",
    "        for fname in os.listdir(data_dir) if fname.endswith('-hits.csv')\n",
    "    )\n",
    ")\n",
    "\n",
    "# 使用前几个事件作为演示\n",
    "demo_ids = all_event_ids[:5]\n",
    "dataset = TrackMLDataset(data_dir, detectors, demo_ids)\n",
    "\n",
    "print(f\"演示数据集统计:\")\n",
    "print(f\"事件数: {len(dataset)}\")\n",
    "print(f\"特征维度: {dataset.feature_dim}\")\n",
    "\n",
    "# 查看一个样本\n",
    "sample = dataset[0]\n",
    "print(f\"\\n样本数据形状:\")\n",
    "for key, value in sample.items():\n",
    "    print(f\"{key}: {value.shape}\")"
   ]
  },
  {
   "cell_type": "code",
   "execution_count": null,
   "id": "5a9ef969",
   "metadata": {},
   "outputs": [],
   "source": [
    "# 创建模型\n",
    "device = torch.device('cuda' if torch.cuda.is_available() else 'mps' if torch.backends.mps.is_available() else 'cpu')\n",
    "print(f\"使用设备: {device}\")\n",
    "\n",
    "model = create_trackformer_600mev(input_dim=dataset.feature_dim)\n",
    "model = model.to(device)\n",
    "\n",
    "print(f\"\\nTrackFormer模型参数统计:\")\n",
    "total_params = sum(p.numel() for p in model.parameters())\n",
    "trainable_params = sum(p.numel() for p in model.parameters() if p.requires_grad)\n",
    "print(f\"总参数数: {total_params:,}\")\n",
    "print(f\"可训练参数数: {trainable_params:,}\")"
   ]
  },
  {
   "cell_type": "markdown",
   "id": "c5c3a74b",
   "metadata": {},
   "source": [
    "## 3. 快速训练演示"
   ]
  },
  {
   "cell_type": "code",
   "execution_count": null,
   "id": "1d43eef6",
   "metadata": {},
   "outputs": [],
   "source": [
    "# 准备训练\n",
    "dataloader = DataLoader(dataset, batch_size=1, shuffle=True)\n",
    "loss_fn = LossModule()\n",
    "optimizer = torch.optim.Adam(model.parameters(), lr=1e-4)\n",
    "\n",
    "print(\"开始快速训练演示 (5个epoch)...\")\n",
    "\n",
    "# 训练几个epoch作为演示\n",
    "demo_losses = []\n",
    "for epoch in range(5):\n",
    "    epoch_loss = train(model, loss_fn, dataloader, optimizer, device)\n",
    "    demo_losses.append(epoch_loss)\n",
    "    print(f\"Epoch {epoch + 1}/5, Loss: {epoch_loss:.4f}\")\n",
    "\n",
    "# 绘制loss曲线\n",
    "plt.figure(figsize=(8, 5))\n",
    "plt.plot(range(1, 6), demo_losses, 'b-o', linewidth=2, markersize=8)\n",
    "plt.xlabel('Epoch')\n",
    "plt.ylabel('Loss')\n",
    "plt.title('TrackFormer训练Loss (演示)')\n",
    "plt.grid(True, alpha=0.3)\n",
    "plt.show()\n",
    "\n",
    "print(\"\\n演示完成! 完整训练请使用: python main_train.py\")"
   ]
  },
  {
   "cell_type": "markdown",
   "id": "c4a44d9d",
   "metadata": {},
   "source": [
    "## 4. 模型推理演示"
   ]
  },
  {
   "cell_type": "code",
   "execution_count": null,
   "id": "68a3724f",
   "metadata": {},
   "outputs": [],
   "source": [
    "# 使用训练后的模型进行推理\n",
    "model.eval()\n",
    "with torch.no_grad():\n",
    "    sample_batch = next(iter(dataloader))\n",
    "    X = sample_batch['X'].squeeze(0).to(device)\n",
    "    \n",
    "    # 提取坐标\n",
    "    x, y, z = X[:, 1], X[:, 2], X[:, 3]\n",
    "    r = torch.sqrt(x**2 + y**2)\n",
    "    phi = torch.atan2(y, x)\n",
    "    coords = torch.stack([r, phi, z], dim=1)\n",
    "    \n",
    "    # 模型推理\n",
    "    output = model(X, coords)\n",
    "    \n",
    "    print(\"模型输出:\")\n",
    "    for key, value in output.items():\n",
    "        if isinstance(value, torch.Tensor):\n",
    "            print(f\"{key}: {value.shape}\")\n",
    "        else:\n",
    "            print(f\"{key}: {type(value)}\")\n",
    "    \n",
    "    if 'track_logits' in output and output['track_logits'].numel() > 0:\n",
    "        n_predicted_tracks = (torch.sigmoid(output['track_logits']) > 0.5).sum().item()\n",
    "        print(f\"\\n预测的轨迹数: {n_predicted_tracks}\")\n",
    "    else:\n",
    "        print(\"\\n模型未预测到有效轨迹 (需要更多训练)\")"
   ]
  },
  {
   "cell_type": "markdown",
   "id": "18698720",
   "metadata": {},
   "source": [
    "## 总结\n",
    "\n",
    "本notebook演示了:\n",
    "1. **数据探索**: TrackML数据集的基本统计和可视化\n",
    "2. **模型构建**: TrackFormer模型的创建和参数统计\n",
    "3. **训练演示**: 快速训练过程和loss可视化\n",
    "4. **推理测试**: 模型输出格式和预测结果\n",
    "\n",
    "### 下一步:\n",
    "- 运行 `python main_train.py --mode single --epochs 100` 进行完整单次训练\n",
    "- 运行 `python main_train.py --mode kfold --epochs 50 --folds 5` 进行K折交叉验证\n",
    "- 使用 `src/visual.py` 中的功能进行详细可视化分析"
   ]
  }
 ],
 "metadata": {
  "language_info": {
   "name": "python"
  }
 },
 "nbformat": 4,
 "nbformat_minor": 5
}
